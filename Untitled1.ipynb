{
 "cells": [
  {
   "cell_type": "code",
   "execution_count": 1,
   "metadata": {},
   "outputs": [
    {
     "name": "stderr",
     "output_type": "stream",
     "text": [
      "WARNING (theano.tensor.blas): Using NumPy C-API based implementation for BLAS functions.\n",
      "C:\\Anaconda3\\envs\\py35\\lib\\site-packages\\h5py\\__init__.py:36: FutureWarning: Conversion of the second argument of issubdtype from `float` to `np.floating` is deprecated. In future, it will be treated as `np.float64 == np.dtype(float).type`.\n",
      "  from ._conv import register_converters as _register_converters\n"
     ]
    }
   ],
   "source": [
    "import pymc3 as pm\n",
    "from theano.compile.ops import as_op\n",
    "import theano.tensor as tt\n",
    "import numpy as np\n",
    "import matplotlib.pyplot as plt\n",
    "import cv2\n",
    "import random\n",
    "import scipy \n",
    "\n",
    "from skimage.measure import compare_ssim as ssim"
   ]
  },
  {
   "cell_type": "code",
   "execution_count": 22,
   "metadata": {},
   "outputs": [
    {
     "data": {
      "text/plain": [
       "<matplotlib.image.AxesImage at 0x20fc59f3c50>"
      ]
     },
     "execution_count": 22,
     "metadata": {},
     "output_type": "execute_result"
    },
    {
     "data": {
      "image/png": "[encoded data removed]",
      "text/plain": [
       "<Figure size 432x288 with 1 Axes>"
      ]
     },
     "metadata": {},
     "output_type": "display_data"
    }
   ],
   "source": [
    "sample = cv2.imread(\"sample/circle.png\", cv2.IMREAD_GRAYSCALE)\n",
    "plt.imshow(sample, cmap='gray', vmin=0, vmax=255)"
   ]
  },
  {
   "cell_type": "code",
   "execution_count": 3,
   "metadata": {},
   "outputs": [],
   "source": [
    "@as_op(itypes=[tt.lscalar, tt.lscalar, tt.lscalar, tt.lscalar, tt.lscalar], otypes=[tt.lscalar])\n",
    "def rec_KL(lcx, lcy, rcx, rcy, co):\n",
    "    w, h = sample.shape\n",
    "    test = np.zeros((w, h), np.uint8)\n",
    "    co = int(co)\n",
    "    cv2.rectangle(test, (lcx, lcy), (rcx, rcy), co, -1)\n",
    "    \n",
    "    ep = 1\n",
    "    sample_cp = np.copy(sample)\n",
    "\n",
    "    kl = 0\n",
    "\n",
    "    test[test == 0] += ep\n",
    "    sample_cp[sample == 0] += ep\n",
    "\n",
    "    for j in range(h):\n",
    "        for i in range(w):\n",
    "            kl += test[j][i] * np.log2(test[j][i] / sample_cp[j][i])\n",
    "    kl = np.array(kl, dtype=np.int64)\n",
    "    return kl"
   ]
  },
  {
   "cell_type": "code",
   "execution_count": 4,
   "metadata": {},
   "outputs": [],
   "source": [
    "@as_op(itypes=[tt.lvector, tt.lvector, tt.lvector, tt.lvector, tt.lvector], otypes=[tt.lscalar])\n",
    "def compute_ssim(lcx, lcy, rcx, rcy, co):\n",
    "    w, h = sample.shape\n",
    "    nr,  = lcx.shape\n",
    "    \n",
    "    test = np.zeros((w, h), np.uint8)\n",
    "    test[:, :] = 255\n",
    "    \n",
    "    testb = np.copy(test)\n",
    "    for i in range(nr):\n",
    "        cv2.rectangle(test, (lcx[i], lcy[i]), (rcx[i], rcy[i]), int(co[i]), -1)\n",
    "        testb = cv2.addWeighted(test, 0.5, testb, 0.5, 0)\n",
    "        test = np.copy(testb)\n",
    "\n",
    "    err = 100 * ssim(test, sample, data_range=test.max() - test.min())\n",
    "    return np.array(err, dtype=np.int64)"
   ]
  },
  {
   "cell_type": "code",
   "execution_count": 33,
   "metadata": {},
   "outputs": [],
   "source": [
    "@as_op(itypes=[tt.lvector, tt.lvector, tt.lvector, tt.lvector, tt.lvector], otypes=[tt.lscalar])\n",
    "def compute_mse (lcx, lcy, rcx, rcy, co):\n",
    "    w, h = sample.shape\n",
    "    nr,  = lcx.shape\n",
    "    \n",
    "    test = np.zeros((w, h), np.uint8)\n",
    "    test[:, :] = 255\n",
    "    \n",
    "    for i in range(nr):\n",
    "        test[lcy[i]:rcy[i], lcx[i]:rcx[i]] = 0.5 * test[lcy[i]:rcy[i], lcx[i]:rcx[i]] + 0.5* co[i]\n",
    "    \n",
    "    err = 100*np.sum((test.astype(\"float\") - sample.astype(\"float\"))**2)\n",
    "    return np.array(err, dtype=np.int64)"
   ]
  },
  {
   "cell_type": "code",
   "execution_count": 14,
   "metadata": {},
   "outputs": [],
   "source": [
    "@as_op(itypes=[tt.lvector, tt.lvector, tt.lvector, tt.lvector, tt.lvector], otypes=[tt.lscalar])\n",
    "def old_compute_mse (lcx, lcy, rcx, rcy, co):\n",
    "    w, h = sample.shape\n",
    "    nr,  = lcx.shape\n",
    "    \n",
    "    test = np.zeros((w, h), np.uint8)\n",
    "    test[:, :] = 255\n",
    "    \n",
    "    testb = np.copy(test)\n",
    "    for i in range(nr):\n",
    "        cv2.rectangle(test, (lcx[i], lcy[i]), (rcx[i], rcy[i]), int(co[i]), -1)\n",
    "        testb = cv2.addWeighted(test, 0.5, testb, 0.5, 0)\n",
    "        test = np.copy(testb)\n",
    "    \n",
    "    err = 100*np.sum((test.astype(\"float\") - sample.astype(\"float\"))**2)\n",
    "    return np.array(err, dtype=np.int64)"
   ]
  },
  {
   "cell_type": "code",
   "execution_count": 24,
   "metadata": {},
   "outputs": [
    {
     "name": "stderr",
     "output_type": "stream",
     "text": [
      "Sequential sampling (2 chains in 1 job)\n",
      "CompoundStep\n",
      ">Metropolis: [color]\n",
      ">Metropolis: [right_corner_y]\n",
      ">Metropolis: [right_corner_x]\n",
      ">Metropolis: [left_corner_y]\n",
      ">Metropolis: [left_corner_x]\n",
      "100%|██████████████████████████████████████████████████████████████████████████████| 3500/3500 [01:08<00:00, 51.25it/s]\n",
      "100%|██████████████████████████████████████████████████████████████████████████████| 3500/3500 [01:06<00:00, 52.68it/s]\n",
      "The gelman-rubin statistic is larger than 1.4 for some parameters. The sampler did not converge.\n",
      "The estimated number of effective samples is smaller than 200 for some parameters.\n"
     ]
    },
    {
     "name": "stdout",
     "output_type": "stream",
     "text": [
      "[141, 209, 84, 184, 175, 176, 60, 232, 189, 120, 183, 231, 237, 236, 179, 20, 149, 66, 214, 36, 52, 91, 77, 114, 115, 1, 64, 236, 227, 193, 220, 7, 190, 81, 243, 15, 93, 141, 199, 58, 152, 218, 27, 116, 206, 111, 225, 200, 46, 187, 247, 86, 90, 80, 59, 69, 47, 138, 6, 70, 209, 87, 186, 231, 27, 53, 148, 0, 159, 0, 36, 236, 3, 120, 104, 16, 60, 80, 110, 188, 166, 102, 29, 11, 1, 1, 19, 231, 0, 189, 79, 130, 69, 178, 149, 1, 184, 150, 132, 101]\n"
     ]
    },
    {
     "data": {
      "text/plain": [
       "<matplotlib.image.AxesImage at 0x20fc7984400>"
      ]
     },
     "execution_count": 24,
     "metadata": {},
     "output_type": "execute_result"
    },
    {
     "data": {
      "image/png": "[encoded data removed]",
      "text/plain": [
       "<Figure size 432x288 with 1 Axes>"
      ]
     },
     "metadata": {},
     "output_type": "display_data"
    }
   ],
   "source": [
    "# 투명도를 고려한 compute_mse 적용. computation time이 오래걸린다는 단점이 있습니다.\n",
    "\n",
    "num_rect = 500\n",
    "\n",
    "with pm.Model() as model:\n",
    "    # Priors\n",
    "    left_corner_x = pm.DiscreteUniform('left_corner_x', lower=0, upper=100, shape=num_rect)\n",
    "    left_corner_y = pm.DiscreteUniform('left_corner_y', lower=0, upper=100, shape=num_rect)\n",
    "    right_corner_x = pm.DiscreteUniform('right_corner_x', lower=0, upper=100, shape=num_rect)\n",
    "    right_corner_y = pm.DiscreteUniform('right_corner_y', lower=0, upper=100, shape=num_rect)\n",
    "\n",
    "    color = pm.DiscreteUniform('color', lower=0, upper=255, shape=num_rect)\n",
    "\n",
    "    #obj = rec_KL(left_corner_x, left_corner_y, right_corner_x, right_corner_y, color)\n",
    "    #obj = compute_ssim(left_corner_x, left_corner_y, right_corner_x, right_corner_y, color)\n",
    "    obj = old_compute_mse(left_corner_x, left_corner_y, right_corner_x, right_corner_y, color)\n",
    "    \n",
    "    # Data likelihood\n",
    "    objective_obs = pm.Normal('objective_obs', mu=obj, sd=1, observed=0)\n",
    "    #objective_obs = pm.Poisson('objective', obj, observed=0)\n",
    "\n",
    "    step = pm.Metropolis()\n",
    "\n",
    "    # Initial values for stochastic nodes\n",
    "    start = {'left_corner_x': np.random.randint(100, size=num_rect), 'left_corner_y': np.random.randint(100, size=num_rect),\n",
    "             'right_corner_x': np.random.randint(100, size=num_rect), 'right_corner_y': np.random.randint(100, size=num_rect),\n",
    "             'color': np.random.randint(255, size=num_rect)}\n",
    "\n",
    "    tr = pm.sample(3000, start=start, step=[step], cores=1)\n",
    "    #pm.traceplot(tr)\n",
    "\n",
    "#print(pm.summary(tr))\n",
    "plt.show()\n",
    "\n",
    "lc_x, lc_y, rc_x, rc_y, c = [], [], [], [], []\n",
    "l, = tr[\"left_corner_x\"][:, 0].shape\n",
    "\n",
    "for i in range(num_rect):\n",
    "    lc_x.append(int(tr[\"left_corner_x\"][:, i][l-1]))\n",
    "    lc_y.append(int(tr[\"left_corner_y\"][:, i][l-1]))\n",
    "    rc_x.append(int(tr[\"right_corner_x\"][:, i][l-1]))\n",
    "    rc_y.append(int(tr[\"right_corner_y\"][:, i][l-1]))\n",
    "    c.append(int(tr[\"color\"][:, i][l-1]))\n",
    "\n",
    "\n",
    "result = np.zeros((100, 100))\n",
    "result[:, :] = 255\n",
    "print(c)\n",
    "\n",
    "resultb = np.copy(result)\n",
    "for i in range(num_rect):\n",
    "    cv2.rectangle(resultb, (lc_x[i], lc_y[i]), (rc_x[i], rc_y[i]), int(c[i]), -1)\n",
    "    result = cv2.addWeighted(result, 0.5, resultb, 0.5, 0)\n",
    "    resultb = np.copy(result)\n",
    "result = resultb\n",
    "plt.imshow(result, cmap='gray', vmin=0, vmax=255)"
   ]
  },
  {
   "cell_type": "code",
   "execution_count": 38,
   "metadata": {},
   "outputs": [
    {
     "name": "stderr",
     "output_type": "stream",
     "text": [
      "Sequential sampling (2 chains in 1 job)\n",
      "CompoundStep\n",
      ">Metropolis: [color]\n",
      ">Metropolis: [right_corner_y]\n",
      ">Metropolis: [right_corner_x]\n",
      ">Metropolis: [left_corner_y]\n",
      ">Metropolis: [left_corner_x]\n",
      "100%|██████████████████████████████████████████████████████████████████████████████| 3500/3500 [04:05<00:00, 14.26it/s]\n",
      "100%|██████████████████████████████████████████████████████████████████████████████| 3500/3500 [03:37<00:00, 16.10it/s]\n",
      "The gelman-rubin statistic is larger than 1.4 for some parameters. The sampler did not converge.\n",
      "The estimated number of effective samples is smaller than 200 for some parameters.\n"
     ]
    },
    {
     "name": "stdout",
     "output_type": "stream",
     "text": [
      "[98, 181, 156, 104, 106, 57, 18, 124, 70, 112, 124, 219, 202, 217, 176, 78, 248, 155, 16, 94, 206, 188, 125, 106, 19, 0, 115, 109, 9, 7, 26, 177, 110, 239, 223, 207, 94, 170, 90, 207, 115, 7, 120, 153, 159, 197, 174, 201, 12, 80, 8, 195, 154, 161, 198, 223, 10, 226, 93, 68, 228, 100, 93, 83, 165, 16, 22, 75, 75, 214, 191, 202, 46, 185, 81, 195, 90, 8, 92, 250, 56, 82, 134, 0, 14, 38, 235, 134, 198, 226, 46, 14, 245, 234, 62, 84, 187, 75, 137, 47, 44, 202, 35, 241, 185, 254, 186, 159, 172, 235, 137, 208, 188, 225, 42, 198, 249, 158, 26, 23, 88, 89, 229, 11, 3, 190, 79, 48, 128, 99, 21, 73, 236, 116, 207, 4, 177, 72, 214, 224, 8, 191, 135, 213, 31, 136, 234, 139, 57, 55, 132, 46, 253, 71, 76, 50, 246, 121, 150, 251, 139, 185, 104, 226, 124, 139, 9, 91, 241, 57, 193, 191, 119, 7, 82, 100, 83, 223, 117, 202, 207, 208, 8, 95, 50, 178, 231, 194, 246, 30, 16, 49, 199, 151, 17, 231, 91, 75, 163, 232, 148, 57, 103, 34, 94, 244, 215, 3, 126, 158, 66, 11, 165, 188, 49, 183, 35, 243, 38, 237, 195, 49, 94, 143, 184, 103, 18, 124, 235, 18, 102, 8, 93, 215, 168, 15, 38, 82, 97, 178, 4, 85, 199, 72, 79, 240, 20, 62, 160, 225, 11, 121, 175, 100, 95, 106, 45, 213, 18, 71, 119, 65, 21, 29, 243, 3, 160, 200, 35, 73, 199, 9, 130, 245, 181, 136, 227, 177, 224, 205, 190, 38, 60, 32, 92, 125, 9, 157, 194, 120, 103, 148, 2, 52, 174, 120, 225, 31, 184, 247, 14, 122, 124, 200, 59, 3, 41, 184, 144, 49, 61, 248, 89, 124, 182, 198, 115, 37, 201, 39, 35, 0, 105, 189, 243, 0, 100, 146, 145, 169, 140, 46, 175, 142, 199, 35, 131, 60, 124, 18, 84, 105, 1, 79, 66, 1, 119, 14, 47, 16, 89, 5, 137, 128, 52, 53, 91, 45, 86, 211, 126, 150, 67, 216, 129, 105, 14, 249, 254, 160, 111, 205, 247, 194, 173, 12, 58, 30, 177, 11, 174, 61, 109, 126, 104, 161, 145, 38, 123, 91, 104, 74, 239, 99, 161, 0, 11, 77, 130, 248, 251, 116, 225, 99, 99, 197, 168, 92, 217, 220, 126, 28, 131, 184, 129, 9, 134, 140, 0, 67, 212, 138, 127, 69, 244, 189, 145, 160, 220, 230, 213, 80, 233, 197, 28, 67, 217, 28, 132, 88, 194, 108, 58, 235, 166, 87, 100, 0, 113, 202, 104, 139, 115, 62, 7, 85, 164, 208, 115, 51, 0, 153, 19, 55, 8, 19, 136, 153, 24, 36, 223, 120, 2, 108, 14, 128, 68, 165, 158, 15, 154, 50, 192, 80, 250, 239, 115, 53, 131, 207, 21, 148, 15, 192, 135, 218, 147, 78, 243, 147]\n"
     ]
    },
    {
     "data": {
      "text/plain": [
       "<matplotlib.image.AxesImage at 0x20fc5ea7588>"
      ]
     },
     "execution_count": 38,
     "metadata": {},
     "output_type": "execute_result"
    },
    {
     "data": {
      "image/png": "[encoded data removed]",
      "text/plain": [
       "<Figure size 432x288 with 1 Axes>"
      ]
     },
     "metadata": {},
     "output_type": "display_data"
    }
   ],
   "source": [
    "# compute_mse 함수를 조금 수정하여 적용해보았습니다. 결과상 차이는 없는것으로 보이고, computation time이 조금 줄어드는 것 같습니다.\n",
    "\n",
    "num_rect = 500\n",
    "\n",
    "with pm.Model() as model:\n",
    "    # Priors\n",
    "    left_corner_x = pm.DiscreteUniform('left_corner_x', lower=0, upper=100, shape=num_rect)\n",
    "    left_corner_y = pm.DiscreteUniform('left_corner_y', lower=0, upper=100, shape=num_rect)\n",
    "    right_corner_x = pm.DiscreteUniform('right_corner_x', lower=0, upper=100, shape=num_rect)\n",
    "    right_corner_y = pm.DiscreteUniform('right_corner_y', lower=0, upper=100, shape=num_rect)\n",
    "\n",
    "    color = pm.DiscreteUniform('color', lower=0, upper=255, shape=num_rect)\n",
    "\n",
    "    #obj = rec_KL(left_corner_x, left_corner_y, right_corner_x, right_corner_y, color)\n",
    "    #obj = compute_ssim(left_corner_x, left_corner_y, right_corner_x, right_corner_y, color)\n",
    "    obj = compute_mse(left_corner_x, left_corner_y, right_corner_x, right_corner_y, color)\n",
    "    \n",
    "    # Data likelihood\n",
    "    objective_obs = pm.Normal('objective_obs', mu=obj, sd=1, observed=0)\n",
    "    #objective_obs = pm.Poisson('objective', obj, observed=0)\n",
    "\n",
    "    step = pm.Metropolis()\n",
    "\n",
    "    # Initial values for stochastic nodes\n",
    "    start = {'left_corner_x': np.random.randint(100, size=num_rect), 'left_corner_y': np.random.randint(100, size=num_rect),\n",
    "             'right_corner_x': np.random.randint(100, size=num_rect), 'right_corner_y': np.random.randint(100, size=num_rect),\n",
    "             'color': np.random.randint(255, size=num_rect)}\n",
    "\n",
    "    tr = pm.sample(3000, start=start, step=[step], cores=1)\n",
    "    #pm.traceplot(tr)\n",
    "\n",
    "#print(pm.summary(tr))\n",
    "plt.show()\n",
    "\n",
    "lc_x, lc_y, rc_x, rc_y, c = [], [], [], [], []\n",
    "l, = tr[\"left_corner_x\"][:, 0].shape\n",
    "\n",
    "for i in range(num_rect):\n",
    "    lc_x.append(int(tr[\"left_corner_x\"][:, i][l-1]))\n",
    "    lc_y.append(int(tr[\"left_corner_y\"][:, i][l-1]))\n",
    "    rc_x.append(int(tr[\"right_corner_x\"][:, i][l-1]))\n",
    "    rc_y.append(int(tr[\"right_corner_y\"][:, i][l-1]))\n",
    "    c.append(int(tr[\"color\"][:, i][l-1]))\n",
    "\n",
    "\n",
    "result = np.zeros((100, 100), np.uint8)\n",
    "result[:, :] = 255\n",
    "print(c)\n",
    "\n",
    "for i in range(num_rect):\n",
    "    result[lc_y[i]:rc_y[i], lc_x[i]:rc_x[i]] = 0.5 * result[lc_y[i]:rc_y[i], lc_x[i]:rc_x[i]] + 0.5* c[i]\n",
    "\n",
    "plt.imshow(result, cmap='gray', vmin=0, vmax=255)"
   ]
  },
  {
   "cell_type": "code",
   "execution_count": 30,
   "metadata": {},
   "outputs": [
    {
     "data": {
      "image/png": "[encoded data removed]",
      "text/plain": [
       "<Figure size 432x288 with 1 Axes>"
      ]
     },
     "metadata": {},
     "output_type": "display_data"
    }
   ],
   "source": [
    "a = np.zeros((100, 100), np.uint8)\n",
    "a[:, :] = 255\n",
    "cv2.rectangle(a, (20, 10), (70, 50), 122, -1)\n",
    "a[30:80, 30:80] = 0.5 * a[30:80, 30:80] + 60\n",
    "a[60:80, 20:40] = 0.5 * a[60:80, 20:40] + 60\n",
    "plt.imshow(a, cmap='gray', vmin = 0, vmax = 255)\n",
    "plt.show()"
   ]
  },
  {
   "cell_type": "code",
   "execution_count": null,
   "metadata": {},
   "outputs": [],
   "source": []
  }
 ],
 "metadata": {
  "kernelspec": {
   "display_name": "Python 3",
   "language": "python",
   "name": "python3"
  },
  "language_info": {
   "codemirror_mode": {
    "name": "ipython",
    "version": 3
   },
   "file_extension": ".py",
   "mimetype": "text/x-python",
   "name": "python",
   "nbconvert_exporter": "python",
   "pygments_lexer": "ipython3",
   "version": "3.5.5"
  }
 },
 "nbformat": 4,
 "nbformat_minor": 2
}
